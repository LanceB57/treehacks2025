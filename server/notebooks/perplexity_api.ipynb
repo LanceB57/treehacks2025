{
 "cells": [
  {
   "cell_type": "code",
   "execution_count": 18,
   "metadata": {},
   "outputs": [
    {
     "name": "stdout",
     "output_type": "stream",
     "text": [
      "{\"id\": \"eb2bf43c-cc5b-4068-a7ed-b0ecc6b3d8c6\", \"model\": \"sonar\", \"created\": 1739601999, \"usage\": {\"prompt_tokens\": 14, \"completion_tokens\": 108, \"total_tokens\": 122}, \"citations\": [\"https://www.cbsnews.com/news/trump-administration-fires-over-400-dhs-employees/\", \"https://fortune.com/2025/02/14/doge-firings-nuclear-weapons-specialists-energy-department-layoffs-nnsa-elon-musk/\"], \"object\": \"chat.completion\", \"choices\": [{\"index\": 0, \"finish_reason\": \"stop\", \"message\": {\"role\": \"assistant\", \"content\": \"The search results do not provide a comprehensive total of employees fired specifically under the Department of Government Efficiency (DOGE) initiative. However, they mention mass firings across various federal agencies, including over 400 employees at the Department of Homeland Security (DHS) and between 300 and 400 workers at the National Nuclear Safety Administration (NNSA) within the Energy Department[1][2]. These firings are part of broader efforts to reduce the federal workforce, but the exact number attributed directly to DOGE is not specified.\"}, \"delta\": {\"role\": \"assistant\", \"content\": \"\"}}]}\n"
     ]
    }
   ],
   "source": [
    "import requests\n",
    "\n",
    "url = \"https://api.perplexity.ai/chat/completions\"\n",
    "\n",
    "payload = {\n",
    "    \"model\": \"sonar\",\n",
    "    \"messages\": [\n",
    "        {\n",
    "            \"role\": \"system\",\n",
    "            \"content\": \"Be precise and concise.\"\n",
    "        },\n",
    "        {\n",
    "            \"role\": \"user\",\n",
    "            \"content\": \"How many employees were fired under DOGE?\"\n",
    "        }\n",
    "    ],\n",
    "    \"max_tokens\": 123,\n",
    "    \"temperature\": 0.2,\n",
    "    \"top_p\": 0.9,\n",
    "    \"search_domain_filter\": None,\n",
    "    \"return_images\": False,\n",
    "    \"return_related_questions\": False,\n",
    "    \"search_recency_filter\": \"year\",\n",
    "    \"top_k\": 0,\n",
    "    \"stream\": False,\n",
    "    \"frequency_penalty\": 1,\n",
    "    \"response_format\": None\n",
    "}\n",
    "headers = {\n",
    "    \"Authorization\": \"Bearer ...\",\n",
    "    \"Content-Type\": \"application/json\"\n",
    "}\n",
    "\n",
    "response = requests.request(\"POST\", url, json=payload, headers=headers)\n",
    "\n",
    "print(response.text)"
   ]
  },
  {
   "cell_type": "code",
   "execution_count": 19,
   "metadata": {},
   "outputs": [],
   "source": [
    "import json\n",
    "\n",
    "data = json.loads(response.text)"
   ]
  },
  {
   "cell_type": "code",
   "execution_count": 20,
   "metadata": {},
   "outputs": [
    {
     "data": {
      "text/plain": [
       "{'id': 'eb2bf43c-cc5b-4068-a7ed-b0ecc6b3d8c6',\n",
       " 'model': 'sonar',\n",
       " 'created': 1739601999,\n",
       " 'usage': {'prompt_tokens': 14, 'completion_tokens': 108, 'total_tokens': 122},\n",
       " 'citations': ['https://www.cbsnews.com/news/trump-administration-fires-over-400-dhs-employees/',\n",
       "  'https://fortune.com/2025/02/14/doge-firings-nuclear-weapons-specialists-energy-department-layoffs-nnsa-elon-musk/'],\n",
       " 'object': 'chat.completion',\n",
       " 'choices': [{'index': 0,\n",
       "   'finish_reason': 'stop',\n",
       "   'message': {'role': 'assistant',\n",
       "    'content': 'The search results do not provide a comprehensive total of employees fired specifically under the Department of Government Efficiency (DOGE) initiative. However, they mention mass firings across various federal agencies, including over 400 employees at the Department of Homeland Security (DHS) and between 300 and 400 workers at the National Nuclear Safety Administration (NNSA) within the Energy Department[1][2]. These firings are part of broader efforts to reduce the federal workforce, but the exact number attributed directly to DOGE is not specified.'},\n",
       "   'delta': {'role': 'assistant', 'content': ''}}]}"
      ]
     },
     "execution_count": 20,
     "metadata": {},
     "output_type": "execute_result"
    }
   ],
   "source": [
    "data"
   ]
  },
  {
   "cell_type": "code",
   "execution_count": 21,
   "metadata": {},
   "outputs": [
    {
     "data": {
      "text/plain": [
       "'The search results do not provide a comprehensive total of employees fired specifically under the Department of Government Efficiency (DOGE) initiative. However, they mention mass firings across various federal agencies, including over 400 employees at the Department of Homeland Security (DHS) and between 300 and 400 workers at the National Nuclear Safety Administration (NNSA) within the Energy Department[1][2]. These firings are part of broader efforts to reduce the federal workforce, but the exact number attributed directly to DOGE is not specified.'"
      ]
     },
     "execution_count": 21,
     "metadata": {},
     "output_type": "execute_result"
    }
   ],
   "source": [
    "data[\"choices\"][0][\"message\"][\"content\"]"
   ]
  },
  {
   "cell_type": "code",
   "execution_count": null,
   "metadata": {},
   "outputs": [],
   "source": []
  }
 ],
 "metadata": {
  "kernelspec": {
   "display_name": ".venv",
   "language": "python",
   "name": "python3"
  },
  "language_info": {
   "codemirror_mode": {
    "name": "ipython",
    "version": 3
   },
   "file_extension": ".py",
   "mimetype": "text/x-python",
   "name": "python",
   "nbconvert_exporter": "python",
   "pygments_lexer": "ipython3",
   "version": "3.11.6"
  }
 },
 "nbformat": 4,
 "nbformat_minor": 2
}
